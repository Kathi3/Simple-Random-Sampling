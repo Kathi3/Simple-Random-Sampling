{
  "nbformat": 4,
  "nbformat_minor": 0,
  "metadata": {
    "colab": {
      "name": "Copy of Python Programming: Simple Random Sampling",
      "provenance": [],
      "collapsed_sections": [
        "s0-xi8v6eATI",
        "c2SS_SWaQXE2",
        "cSWmgSy3SV5D",
        "RcV5DlN5R2uh",
        "PA5HaWPvTALQ",
        "BeUYGvGhTsm1",
        "bNWFLKL-gRTO",
        "kV0dRO0nUJzL",
        "0gGIBBpggZT2",
        "DwOtPvA3UnHf",
        "LZgY26bsgfJv",
        "-22NquhoWF7l",
        "8QVs13BcYJpm"
      ],
      "toc_visible": true,
      "include_colab_link": true
    },
    "kernelspec": {
      "name": "python3",
      "display_name": "Python 3"
    }
  },
  "cells": [
    {
      "cell_type": "markdown",
      "metadata": {
        "id": "view-in-github",
        "colab_type": "text"
      },
      "source": [
        "<a href=\"https://colab.research.google.com/github/Kathi3/Simple-Random-Sampling/blob/main/Copy_of_Python_Programming_Simple_Random_Sampling.ipynb\" target=\"_parent\"><img src=\"https://colab.research.google.com/assets/colab-badge.svg\" alt=\"Open In Colab\"/></a>"
      ]
    },
    {
      "cell_type": "markdown",
      "metadata": {
        "id": "YutBgvuBdPHi"
      },
      "source": [
        "<font color=\"green\">To start working on this notebook, or any other notebook that we will use in the Moringa Data Science Course, we will need to save our own copy of it. We can do this by clicking File > Save a Copy in Drive. We will then be able to make edits to our own copy of this notebook.</font>"
      ]
    },
    {
      "cell_type": "markdown",
      "metadata": {
        "id": "5zn7dG78QUoE"
      },
      "source": [
        "# Python Programming:  Simple Random Sampling\n"
      ]
    },
    {
      "cell_type": "markdown",
      "metadata": {
        "id": "s0-xi8v6eATI"
      },
      "source": [
        "## Importing our Libraries"
      ]
    },
    {
      "cell_type": "code",
      "metadata": {
        "id": "suQkBJ4BTRWv"
      },
      "source": [
        "# importing numpy\n",
        "import numpy as np\n",
        "\n",
        "# importing pandas\n",
        "import pandas as pd\n",
        "\n",
        "# importing random module\n",
        "# we will use random.sample() function to return a k length \n",
        "# list of unique elements chosen from our population\n",
        "import random"
      ],
      "execution_count": null,
      "outputs": []
    },
    {
      "cell_type": "markdown",
      "metadata": {
        "id": "c2SS_SWaQXE2"
      },
      "source": [
        "## 1.0 Selecting More than One item from a List"
      ]
    },
    {
      "cell_type": "code",
      "metadata": {
        "id": "ttRODtArQMVS",
        "colab": {
          "base_uri": "https://localhost:8080/"
        },
        "outputId": "fb0392d0-fd21-422e-9bbe-4a5c14818b0f"
      },
      "source": [
        "# Example 1\n",
        "# ---\n",
        "# Selecting more than one item from a list \n",
        "# ---\n",
        "#\n",
        "\n",
        "list = [20, 40, 80, 100, 120]\n",
        "print (\"Choosing 3 random items from a list using sample function\", random.sample(list, k=3))\n",
        "\n",
        "list = [20, 40, 20, 20, 20]\n",
        "print (\"Choosing 3 random items from a list using sample function\",random.sample(list, k=3))\n",
        "\n",
        "# As you can see we pass k=3 to choose 3 random elements from a list. \n",
        "# In return, we got a list of 3 random items."
      ],
      "execution_count": null,
      "outputs": [
        {
          "output_type": "stream",
          "name": "stdout",
          "text": [
            "Choosing 3 random items from a list using sample function [80, 20, 100]\n",
            "Choosing 3 random items from a list using sample function [20, 20, 20]\n"
          ]
        }
      ]
    },
    {
      "cell_type": "markdown",
      "metadata": {
        "id": "cSWmgSy3SV5D"
      },
      "source": [
        "### <font color=\"green\"> 1.0 Challenges</font>"
      ]
    },
    {
      "cell_type": "code",
      "metadata": {
        "id": "Ga8D2XvfRFaP",
        "colab": {
          "base_uri": "https://localhost:8080/"
        },
        "outputId": "329ce055-4d2e-49b4-9362-0a7720ec6067"
      },
      "source": [
        "# Challenge 1\n",
        "# ---\n",
        "# Question: Create a list containing 10 counties in Kenya \n",
        "# then select 2 random counties from the list.\n",
        "# ---\n",
        "# \n",
        "list = [\"Nairobi\", \"Kisii\", \"Kiambu\", \"Mombasa\", \"Nyali\", \"Kitui\", \"Machakos\", \"Nakuru\", \"Nyandarua\", \"Murang'a\"]\n",
        "print(\"Choosing 2 random counties based on the given list\", random.sample(list, k=2))"
      ],
      "execution_count": null,
      "outputs": [
        {
          "output_type": "stream",
          "name": "stdout",
          "text": [
            "Choosing 3 random counties ['Nakuru', \"Murang'a\"]\n"
          ]
        }
      ]
    },
    {
      "cell_type": "markdown",
      "metadata": {
        "id": "RcV5DlN5R2uh"
      },
      "source": [
        "## 2.0  Selecting the Random Sample from Dictionary"
      ]
    },
    {
      "cell_type": "code",
      "metadata": {
        "id": "yerkTFAPSIlT",
        "colab": {
          "base_uri": "https://localhost:8080/"
        },
        "outputId": "bf437807-bb2c-4eb8-8306-ccd7853ccd27"
      },
      "source": [
        "# Example 1\n",
        "# ---\n",
        "# We can select a random key-value pair from the dictionary as shown \n",
        "# ---\n",
        "#\n",
        "marks_dict = {\n",
        "  \"Kelly\": 55,\n",
        "  \"jhon\": 70,\n",
        "  \"Donald\": 60,\n",
        "  \"Lennin\" :50\n",
        "}\n",
        "\n",
        "print (\"Choosing 2 random items from a dictionary using sample method \", random.sample(marks_dict.items(), k=2))"
      ],
      "execution_count": null,
      "outputs": [
        {
          "output_type": "stream",
          "name": "stdout",
          "text": [
            "Choosing 2 random items from a dictionary using sample method  [('Donald', 60), ('Lennin', 50)]\n"
          ]
        }
      ]
    },
    {
      "cell_type": "markdown",
      "metadata": {
        "id": "PA5HaWPvTALQ"
      },
      "source": [
        "### <font color=\"green\">2.0 Challenges</font>"
      ]
    },
    {
      "cell_type": "code",
      "metadata": {
        "id": "GZimMc1TSSGU",
        "colab": {
          "base_uri": "https://localhost:8080/"
        },
        "outputId": "9da0b7be-818b-49a5-f8f9-1caeb8ae4f9a"
      },
      "source": [
        "# Challenge 1\n",
        "# ---\n",
        "# A caterer offers three different food packages; \n",
        "# bronze package: starch:rice stew:chicken curry vegetable:cabbages desert:melon\n",
        "# silver package: starch:rice and chappati  stew:beef curry vegetable:spinach desert:melon and bananas\n",
        "# gold package: starch:rice, chappati and mukimo stew: beef curry vegetable:spinach and managu desert: tart\n",
        "# Create a dictionary that stores the above information and select a sample of size 2 \n",
        "# ---\n",
        "#\n",
        "caterer_dict = {\n",
        "  \n",
        "    'bronzepack' : {\n",
        "        'starch': 'rice', \n",
        "        'stew': 'chicken curry', \n",
        "        'vegetable': 'cabbages', \n",
        "        'dessert': 'melon'\n",
        "    },\n",
        "    'silverpack': {\n",
        "        'starch': 'rice and chapati', \n",
        "        'stew': 'beef curry', \n",
        "        'vegetable': 'spinach', \n",
        "        'dessert': 'melon and banana'\n",
        "    },\n",
        "    'goldpack' : {\n",
        "        'starch': 'rice, chapati and mukimo', \n",
        "        'stew': 'beef curry', \n",
        "        'vegetable': 'spinach and managu', \n",
        "        'dessert': 'tart'\n",
        "    }\n",
        "}\n",
        "print (\"Choosing 2 random items from a dictionary using sample method \", random.sample(caterer_dict.items(), k=2))"
      ],
      "execution_count": 6,
      "outputs": [
        {
          "output_type": "stream",
          "name": "stdout",
          "text": [
            "Choosing 2 random items from a dictionary using sample method  [('goldpack', {'starch': 'rice, chapati and mukimo', 'stew': 'beef curry', 'vegetable': 'spinach and managu', 'dessert': 'tart'}), ('bronzepack', {'starch': 'rice', 'stew': 'chicken curry', 'vegetable': 'cabbages', 'dessert': 'melon'})]\n"
          ]
        }
      ]
    },
    {
      "cell_type": "markdown",
      "metadata": {
        "id": "BeUYGvGhTsm1"
      },
      "source": [
        "## 3.0 Selecting a Random Sample with Replacement to including repetition\n"
      ]
    },
    {
      "cell_type": "code",
      "metadata": {
        "id": "9lDLmuqyT0DH",
        "colab": {
          "base_uri": "https://localhost:8080/"
        },
        "outputId": "95d32e8b-bd51-419d-e7f9-16f13b382881"
      },
      "source": [
        "# Example 1\n",
        "# ---\n",
        "# We can select a random sample with replacement to include repetition as shown below\n",
        "# ---\n",
        "# \n",
        "names = [\"Roger\", \"Nadal\", \"Novac\", \"Andre\", \"Sarena\", \"Mariya\", \"Martina\"]\n",
        "\n",
        "print(\"random sample with replacement to including repetition \", random.choices(names, k=3))"
      ],
      "execution_count": 12,
      "outputs": [
        {
          "output_type": "stream",
          "name": "stdout",
          "text": [
            "random sample with replacement to including repetition  ['Andre', 'Andre', 'Nadal']\n"
          ]
        }
      ]
    },
    {
      "cell_type": "markdown",
      "metadata": {
        "id": "bNWFLKL-gRTO"
      },
      "source": [
        "### <font color=\"green\">3.0 Challenges</font>"
      ]
    },
    {
      "cell_type": "code",
      "metadata": {
        "id": "OYjj3osOUCC3",
        "colab": {
          "base_uri": "https://localhost:8080/"
        },
        "outputId": "7c8fe5a7-1ea6-4cb5-80ba-e8ee47ed331b"
      },
      "source": [
        "# Challenge 1\n",
        "# ---\n",
        "# Question: Select a random sample of 3 with replacement to include replacement from the \n",
        "# following list of months\n",
        "# ---\n",
        "#\n",
        "\n",
        "months = ['January', 'February', 'March', 'April', 'May', 'June', 'July',\n",
        "          'August', 'September', 'October', 'November', 'December']\n",
        "\n",
        "print(\"RS with replacement, including repetition\", random.choices(months, k = 3))"
      ],
      "execution_count": 13,
      "outputs": [
        {
          "output_type": "stream",
          "name": "stdout",
          "text": [
            "RS with replacement, including repetition ['November', 'March', 'January']\n"
          ]
        }
      ]
    },
    {
      "cell_type": "markdown",
      "metadata": {
        "id": "kV0dRO0nUJzL"
      },
      "source": [
        "## 4.0 Selecting a Random Sample from a Range of Integers"
      ]
    },
    {
      "cell_type": "code",
      "metadata": {
        "id": "HBqhmibxUIgt",
        "colab": {
          "base_uri": "https://localhost:8080/"
        },
        "outputId": "18af646b-3266-41ce-e6bc-56d7e9ebd857"
      },
      "source": [
        "# Example 1\n",
        "# ---\n",
        "# We can select a random sample from a range of integers as shown below\n",
        "# ---\n",
        "# \n",
        "\n",
        "weight_set = {40, 50, 55, 65, 75, 80}\n",
        "\n",
        "print (\"Choosing 4 random items from a set \", random.sample(weight_set, k=4))"
      ],
      "execution_count": 14,
      "outputs": [
        {
          "output_type": "stream",
          "name": "stdout",
          "text": [
            "Choosing 4 random items from a set  [75, 40, 65, 55]\n"
          ]
        }
      ]
    },
    {
      "cell_type": "markdown",
      "metadata": {
        "id": "0gGIBBpggZT2"
      },
      "source": [
        "### <font color=\"green\">4.1 Challenges</font>"
      ]
    },
    {
      "cell_type": "code",
      "metadata": {
        "id": "IIAkil2VUjuI",
        "colab": {
          "base_uri": "https://localhost:8080/"
        },
        "outputId": "6557f672-1db6-4064-dd20-002f876425a4"
      },
      "source": [
        "# Challenge 1\n",
        "# ---\n",
        "# Question: Select a random sample from a range of integers as shown below\n",
        "# --- \n",
        "# \n",
        "weight_set = {4, 5, 6, 7, 8, 9, 10}\n",
        "\n",
        "print(\"n =\", random.sample(weight_set, k=4))"
      ],
      "execution_count": 15,
      "outputs": [
        {
          "output_type": "stream",
          "name": "stdout",
          "text": [
            "n = [5, 8, 6, 4]\n"
          ]
        }
      ]
    },
    {
      "cell_type": "markdown",
      "metadata": {
        "id": "DwOtPvA3UnHf"
      },
      "source": [
        "## 5.0 Selecting a Sample Array from a Large multidimensional Array\n",
        "\n"
      ]
    },
    {
      "cell_type": "code",
      "metadata": {
        "id": "RxtsWbUtU2cW",
        "colab": {
          "base_uri": "https://localhost:8080/"
        },
        "outputId": "5e07ac8b-086b-46e1-9286-e0df42053931"
      },
      "source": [
        "# Example 1\n",
        "# ---\n",
        "# We can select a sample array from a large multidimensional array as shown\n",
        "# ---\n",
        "# \n",
        "\n",
        "array = np.array([[2 ,4, 6], [5, 10, 15], [6, 12, 18], [7, 14, 21], [8, 16, 24]]) \n",
        "print(\"Printing 2D Array\")\n",
        "print(array)\n",
        "\n",
        "# selecting multiple random rows from the 2D as shown\n",
        "print(\"Selecting multiple random rows from the 2D array\")\n",
        "randomRows = np.random.randint(5, size=2)\n",
        "for i in randomRows:\n",
        "  print(array[i,:])"
      ],
      "execution_count": 16,
      "outputs": [
        {
          "output_type": "stream",
          "name": "stdout",
          "text": [
            "Printing 2D Array\n",
            "[[ 2  4  6]\n",
            " [ 5 10 15]\n",
            " [ 6 12 18]\n",
            " [ 7 14 21]\n",
            " [ 8 16 24]]\n",
            "Selecting multiple random rows from the 2D array\n",
            "[ 5 10 15]\n",
            "[ 6 12 18]\n"
          ]
        }
      ]
    },
    {
      "cell_type": "markdown",
      "metadata": {
        "id": "LZgY26bsgfJv"
      },
      "source": [
        "### <font color=\"green\">5.0 Challenges</font>"
      ]
    },
    {
      "cell_type": "code",
      "metadata": {
        "id": "mJt1ePbSVR9j",
        "colab": {
          "base_uri": "https://localhost:8080/"
        },
        "outputId": "a0e4f3d5-d2a8-42af-a77d-28cf7dfc69ab"
      },
      "source": [
        "# Challenge 1\n",
        "# ---\n",
        "# Question: Select two arrays from the given multidimensional array\n",
        "# ---\n",
        "# \n",
        "\n",
        "array =np.array ([[2, 4, 6, 8, 10], [3, 6, 9, 12, 15], [4, 8, 12, 16, 20], [1 ,2 , 4, 5, 6], [5, 10, 15, 20, 25], [6, 12, 18, 24, 30], [7, 14, 21, 28, 35]] )\n",
        "\n",
        "print(\"Printing A\")\n",
        "print(array)\n",
        "\n",
        "print(\"Select Random Rows from the 2D\")\n",
        "randomRows = np.random.randint(4, size=4)\n",
        "for i in randomRows:\n",
        "  print(array[i, :])"
      ],
      "execution_count": 26,
      "outputs": [
        {
          "output_type": "stream",
          "name": "stdout",
          "text": [
            "Printing A\n",
            "[[ 2  4  6  8 10]\n",
            " [ 3  6  9 12 15]\n",
            " [ 4  8 12 16 20]\n",
            " [ 1  2  4  5  6]\n",
            " [ 5 10 15 20 25]\n",
            " [ 6 12 18 24 30]\n",
            " [ 7 14 21 28 35]]\n",
            "Select Random Rows from the 2D\n",
            "[1 2 4 5 6]\n",
            "[ 3  6  9 12 15]\n",
            "[ 4  8 12 16 20]\n",
            "[ 3  6  9 12 15]\n"
          ]
        }
      ]
    },
    {
      "cell_type": "markdown",
      "metadata": {
        "id": "-22NquhoWF7l"
      },
      "source": [
        "## 6.0 Selecting Random Samples from a Dataset"
      ]
    },
    {
      "cell_type": "code",
      "metadata": {
        "id": "gimbl5z3Waat",
        "colab": {
          "base_uri": "https://localhost:8080/"
        },
        "outputId": "acf34743-6d08-4f54-c98f-68b70b1b341e"
      },
      "source": [
        "# Example 1\n",
        "# ---\n",
        "# Selecting a random sample from the following medical appointments dataset\n",
        "# ---\n",
        "# Dataset url = http://bit.ly/MedicalAppointmentsDataset\n",
        "# ---\n",
        "# \n",
        "\n",
        "# Loading the dataset\n",
        "medical_df = pd.read_csv(\"http://bit.ly/MedicalAppointmentsDataset\")\n",
        "\n",
        "# Determining the size\n",
        "print(medical_df.shape)\n",
        "\n",
        "\n",
        "# Previewing the dataset\n",
        "print(medical_df.head())\n",
        "\n",
        "# Selecting the sample \n",
        "medical_sample = medical_df.sample(n = 10, replace=\"False\")\n",
        "print(medical_sample)"
      ],
      "execution_count": 27,
      "outputs": [
        {
          "output_type": "stream",
          "name": "stdout",
          "text": [
            "(110527, 14)\n",
            "      PatientId  AppointmentID Gender  ... Handcap SMS_received  No-show\n",
            "0  2.987250e+13        5642903      F  ...       0            0       No\n",
            "1  5.589978e+14        5642503      M  ...       0            0       No\n",
            "2  4.262962e+12        5642549      F  ...       0            0       No\n",
            "3  8.679512e+11        5642828      F  ...       0            0       No\n",
            "4  8.841186e+12        5642494      F  ...       0            0       No\n",
            "\n",
            "[5 rows x 14 columns]\n",
            "           PatientId  AppointmentID Gender  ... Handcap SMS_received  No-show\n",
            "86079   8.678819e+12        5577302      M  ...       0            1      Yes\n",
            "52946   8.467648e+12        5725184      F  ...       0            0       No\n",
            "108049  2.852923e+14        5759369      F  ...       0            0       No\n",
            "48666   3.733844e+14        5617982      M  ...       0            0       No\n",
            "74142   6.491812e+13        5623310      M  ...       0            0      Yes\n",
            "61658   6.114673e+12        5680394      F  ...       0            0       No\n",
            "20365   5.314169e+11        5723132      F  ...       0            0       No\n",
            "66031   3.636340e+10        5604670      F  ...       0            1       No\n",
            "98100   4.354679e+13        5648093      F  ...       0            1       No\n",
            "95286   8.395192e+14        5778336      M  ...       0            0       No\n",
            "\n",
            "[10 rows x 14 columns]\n"
          ]
        }
      ]
    },
    {
      "cell_type": "markdown",
      "metadata": {
        "id": "8QVs13BcYJpm"
      },
      "source": [
        "### <font color=\"green\">6.0 Challenges </font>"
      ]
    },
    {
      "cell_type": "code",
      "metadata": {
        "id": "VZEi6JOnXJNt",
        "colab": {
          "base_uri": "https://localhost:8080/"
        },
        "outputId": "480493ef-bd91-400f-82db-9fdde368f0e8"
      },
      "source": [
        "# Challenge 1\n",
        "# ---\n",
        "# Select a random sample of 10 from the given dataset below \n",
        "# ---\n",
        "# Dataset url = http://bit.ly/DSRussianInvestigation\n",
        "# ---\n",
        "#\n",
        "RussianInv_df = pd.read_csv(\"http://bit.ly/DSRussianInvestigation\")\n",
        "print(RussianInv_df.shape)\n",
        "print(RussianInv_df.head())\n",
        "RussianInv_Sample= RussianInv_df.sample(n = 10, replace=\"False\")\n",
        "\n",
        "print(RussianInv_Sample)"
      ],
      "execution_count": 28,
      "outputs": [
        {
          "output_type": "stream",
          "name": "stdout",
          "text": [
            "(194, 13)\n",
            "  investigation investigation-start  ... american      president\n",
            "0     watergate          1973-05-19  ...     True  Richard Nixon\n",
            "1     watergate          1973-05-19  ...     True  Richard Nixon\n",
            "2     watergate          1973-05-19  ...     True  Richard Nixon\n",
            "3     watergate          1973-05-19  ...     True  Richard Nixon\n",
            "4     watergate          1973-05-19  ...     True  Richard Nixon\n",
            "\n",
            "[5 rows x 13 columns]\n",
            "    investigation investigation-start  ... american         president\n",
            "65      watergate          1973-05-19  ...     True     Richard Nixon\n",
            "174        russia          2017-05-17  ...    False      Donald Trump\n",
            "68      watergate          1973-05-19  ...     True     Richard Nixon\n",
            "149      cisneros          1995-05-24  ...     True      Bill Clinton\n",
            "92    iran-contra          1986-12-19  ...     True     Ronald Reagan\n",
            "70      watergate          1973-05-19  ...     True     Richard Nixon\n",
            "129    whitewater          1994-08-05  ...     True      Bill Clinton\n",
            "41      watergate          1973-05-19  ...     True     Richard Nixon\n",
            "73      tim-kraft          1980-09-09  ...     True      Jimmy Carter\n",
            "96         pierce          1990-03-01  ...     True  George H.W. Bush\n",
            "\n",
            "[10 rows x 13 columns]\n"
          ]
        }
      ]
    },
    {
      "cell_type": "markdown",
      "metadata": {
        "id": "jFjWaQYvnbEm"
      },
      "source": [
        ""
      ]
    },
    {
      "cell_type": "code",
      "metadata": {
        "id": "WZgm88i7YTRf",
        "colab": {
          "base_uri": "https://localhost:8080/"
        },
        "outputId": "c570a1a4-d77b-480e-e601-49c05b312100"
      },
      "source": [
        "# Challenge 2\n",
        "# ---\n",
        "# A medical company would like to follow up with 50 patients who never showed up for appointments \n",
        "# but received an sms. Select a random sample from such patients given the medical dataset below \n",
        "# ---\n",
        "# Dataset url = http://bit.ly/MedicalAppointmentsDataset\n",
        "# ---\n",
        "#\n",
        "MedicalApp_df = pd.read_csv(\"http://bit.ly/MedicalAppointmentsDataset\")\n",
        "print(MedicalApp_df.shape)\n",
        "print(MedicalApp_df.head())\n",
        "MedicalApp_Sample= RussianInv_df.sample(n = 12, replace=\"False\")\n",
        "\n",
        "print(MedicalApp_Sample)"
      ],
      "execution_count": 31,
      "outputs": [
        {
          "output_type": "stream",
          "name": "stdout",
          "text": [
            "(110527, 14)\n",
            "      PatientId  AppointmentID Gender  ... Handcap SMS_received  No-show\n",
            "0  2.987250e+13        5642903      F  ...       0            0       No\n",
            "1  5.589978e+14        5642503      M  ...       0            0       No\n",
            "2  4.262962e+12        5642549      F  ...       0            0       No\n",
            "3  8.679512e+11        5642828      F  ...       0            0       No\n",
            "4  8.841186e+12        5642494      F  ...       0            0       No\n",
            "\n",
            "[5 rows x 14 columns]\n",
            "    investigation investigation-start  ... american      president\n",
            "46      watergate          1973-05-19  ...     True  Richard Nixon\n",
            "1       watergate          1973-05-19  ...     True  Richard Nixon\n",
            "44      watergate          1973-05-19  ...     True  Richard Nixon\n",
            "52      watergate          1973-05-19  ...     True  Richard Nixon\n",
            "44      watergate          1973-05-19  ...     True  Richard Nixon\n",
            "75    edwin-meese          1984-04-02  ...     True  Ronald Reagan\n",
            "135          espy          1994-09-09  ...     True   Bill Clinton\n",
            "115    whitewater          1994-08-05  ...     True   Bill Clinton\n",
            "54      watergate          1973-05-19  ...     True  Richard Nixon\n",
            "177        russia          2017-05-17  ...     True   Donald Trump\n",
            "18      watergate          1973-05-19  ...     True  Richard Nixon\n",
            "14      watergate          1973-05-19  ...     True  Richard Nixon\n",
            "\n",
            "[12 rows x 13 columns]\n"
          ]
        }
      ]
    }
  ]
}